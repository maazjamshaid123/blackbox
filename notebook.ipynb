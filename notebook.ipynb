{
 "cells": [
  {
   "cell_type": "code",
   "execution_count": 5,
   "metadata": {},
   "outputs": [
    {
     "data": {
      "application/vnd.jupyter.widget-view+json": {
       "model_id": "2cafb89f45ae4556afdfbe8e7d865285",
       "version_major": 2,
       "version_minor": 0
      },
      "text/plain": [
       "interactive(children=(BoundedFloatText(value=2.0, description='Half-Light Radius (\\\\(\\\\text{pc}\\\\))', step=0.1…"
      ]
     },
     "metadata": {},
     "output_type": "display_data"
    }
   ],
   "source": [
    "import classifier\n",
    "import ipywidgets as widgets\n",
    "import pandas as pd\n",
    "from IPython.display import Markdown\n",
    "\n",
    "\n",
    "style = {'description_width': 'initial'}\n",
    "\n",
    "\n",
    "@widgets.interact(\n",
    "    hlr=widgets.BoundedFloatText(\n",
    "        min=0, step=0.1, value=2.0, description=r'Half-Light Radius (\\(\\text{pc}\\))', style=style\n",
    "    ),\n",
    "    csb=widgets.BoundedFloatText(\n",
    "        min=0, max=1e10, step=10, value=500, description=r'Central Surface Brightness (\\(\\text{L}_{\\odot}\\ \\text{pc}^{-2}\\))', style=style\n",
    "    ),\n",
    "    csv=widgets.BoundedFloatText(\n",
    "        min=0, step=0.5, value=5, description=r'Central Velocity Dispersion (\\(\\text{km}\\ s^{-1}\\))', style=style\n",
    "    ),\n",
    "    v_band_lum=widgets.BoundedFloatText(\n",
    "        min=0, max=1e10, step=1000, value=5e5, description=r'Total V-Band Luminosity (\\(\\text{L}_{\\odot}\\))', style=style\n",
    "    ),\n",
    "    core_radius=widgets.BoundedFloatText(\n",
    "        min=0, step=0.1, value=1, description=r'Observational Core Radius (\\(\\text{pc}\\))', style=style\n",
    "    ),\n",
    "    estimate_hmrt=widgets.Checkbox(value=True, description='Use approximation for Median Relaxation Time instead'\n",
    "                                                           ' of HMRT', style=style),\n",
    "    hmrt=widgets.BoundedFloatText(\n",
    "        min=0, max=1e100, step=100, value=1000, description=r'Half Mass Relaxation Time (\\(\\text{Myr}\\))', style=style\n",
    "    ),\n",
    ")\n",
    "def predict(hlr, csb, csv, v_band_lum, core_radius, estimate_hmrt, hmrt):\n",
    "    data = pd.DataFrame({\n",
    "        'Observational Half-Light Radius': [hlr],\n",
    "        'Central Surface Brightness':      [csb],\n",
    "        'Central Velocity Dispersion':     [csv],\n",
    "        'Total V-band luminosity':         [v_band_lum],\n",
    "        'Observational Core Radius':       [core_radius],\n",
    "        'Half-Mass Relaxation Time':       [hmrt]\n",
    "    })\n",
    "    \n",
    "    clf = classifier.make_classifier(\n",
    "        use_relaxation_time_estimate=estimate_hmrt,\n",
    "        fallback_enabled=False\n",
    "    )\n",
    "    clf_with_fallback = classifier.make_classifier(\n",
    "        use_relaxation_time_estimate=estimate_hmrt,\n",
    "        fallback_enabled=True\n",
    "    )\n",
    "    \n",
    "    bhs = classifier.predict(clf, data)[0]\n",
    "    bhs_fallback = classifier.predict(clf_with_fallback, data)[0]\n",
    "    \n",
    "    return Markdown('# Black Hole Subsystem\\n\\n'\n",
    "                    '{}\\n'\n",
    "                    '# Black Hole Subsystem (w/Fallback)\\n\\n'\n",
    "                    '{}\\n'.format(bhs, bhs_fallback))"
   ]
  }
 ],
 "metadata": {
  "kernelspec": {
   "display_name": "Python 3",
   "language": "python",
   "name": "python3"
  },
  "language_info": {
   "codemirror_mode": {
    "name": "ipython",
    "version": 3
   },
   "file_extension": ".py",
   "mimetype": "text/x-python",
   "name": "python",
   "nbconvert_exporter": "python",
   "pygments_lexer": "ipython3",
   "version": "3.6.6"
  }
 },
 "nbformat": 4,
 "nbformat_minor": 2
}
